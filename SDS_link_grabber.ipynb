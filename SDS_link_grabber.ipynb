{
  "nbformat": 4,
  "nbformat_minor": 0,
  "metadata": {
    "colab": {
      "provenance": []
    },
    "kernelspec": {
      "name": "python3",
      "display_name": "Python 3"
    },
    "language_info": {
      "name": "python"
    }
  },
  "cells": [
    {
      "cell_type": "markdown",
      "source": [
        "#Run this code\n",
        "Make sure to press on the play button before attempting to collect the LCSS/ SDS urls in the second section.\n"
      ],
      "metadata": {
        "id": "zvFZW-ImkAoK"
      }
    },
    {
      "cell_type": "code",
      "source": [
        "import requests\n",
        "import time\n",
        "import pandas as pd\n",
        "from IPython.display import display, Javascript"
      ],
      "metadata": {
        "id": "2DAwcvMAn9Xw"
      },
      "execution_count": null,
      "outputs": []
    },
    {
      "cell_type": "code",
      "source": [
        "def CAS_to_CID(CAS: str, wait_time: int=0) -> int|bool:\n",
        "  \"\"\"\n",
        "  Input: A molecules CAS number (Chemical Abstracts Service) as str in\n",
        "         the format \"000-00-0\". Ex, for Formaldehyde CAS = 30525-89-4. wait_time\n",
        "         refers to time to wait between requests (only applicable when doing\n",
        "         multiple calls of this function)\n",
        "  Output: an int representing the molecule's CID (PubChem's Compound Identifier)\n",
        "\n",
        "  \"\"\"\n",
        "  try:\n",
        "    cas_url = f\"https://pubchem.ncbi.nlm.nih.gov/rest/pug/compound/name/{CAS}/cids/JSON\"\n",
        "    response_cas = requests.get(cas_url, timeout=10)\n",
        "\n",
        "    time.sleep(wait_time)\n",
        "    data_cas = response_cas.json()\n",
        "    CID = data_cas[\"IdentifierList\"][\"CID\"][0]\n",
        "    return CID\n",
        "  except:\n",
        "    return False"
      ],
      "metadata": {
        "id": "UAQw-38h2q3p"
      },
      "execution_count": null,
      "outputs": []
    },
    {
      "cell_type": "code",
      "source": [
        "def CID_to_common_name(CID: int, wait_time: int=0) -> str|bool:\n",
        "  \"\"\"\n",
        "  Input: A molecules CID (Pubchem's Compound Identifier). wait_time is the time\n",
        "         between requests in seconds. Default wait_time = 0\n",
        "  Output: The given molecules common name in string format. Returns False if\n",
        "          unable to retrieve a name.\n",
        "\n",
        "  \"\"\"\n",
        "  try:\n",
        "    url = f\"https://pubchem.ncbi.nlm.nih.gov/rest/pug_view/data/compound/{CID}/JSON/\"\n",
        "    response = requests.get(url, timeout=10)\n",
        "    data = response.json()\n",
        "    common_name = data[\"Record\"][\"RecordTitle\"]\n",
        "    return common_name\n",
        "  except:\n",
        "    return False"
      ],
      "metadata": {
        "id": "tclhy-MXcs5N"
      },
      "execution_count": null,
      "outputs": []
    },
    {
      "cell_type": "code",
      "source": [
        "def generate_LCSS_url(CID: int) -> str:\n",
        "  \"\"\"\n",
        "  Input: A molecule's CID (PubChem's Compound Identifier) which is an int\n",
        "  Output: A string that is a the url of the compounds LCSS (Labaratory Chemical\n",
        "          Safety Summary) which is similar to an SDS (I am not sure what the\n",
        "          difference is content wise)\n",
        "  \"\"\"\n",
        "  LCSS_link = f\"https://pubchem.ncbi.nlm.nih.gov/compound/{CID}#datasheet=LCSS\"\n",
        "  return LCSS_link"
      ],
      "metadata": {
        "id": "hzWCQtbq3qjT"
      },
      "execution_count": null,
      "outputs": []
    },
    {
      "cell_type": "markdown",
      "source": [
        "# Collecting LCSS/ SDS Urls"
      ],
      "metadata": {
        "id": "8NDK127K9jGz"
      }
    },
    {
      "cell_type": "markdown",
      "source": [
        "### Collecting One URL from A CAS number\n",
        "\n",
        "All you need to do is paste the CAS number at:\n",
        "CAS = {YOUR CAS NUMBER}. Copy-Paste the output into the inventory sheet"
      ],
      "metadata": {
        "id": "xO2CEXdB93Cx"
      }
    },
    {
      "cell_type": "code",
      "source": [
        "# You only need to replace what CAS is equal to\n",
        "CAS = \"67-68-5\" #50-00-0 is an example CAS number\n",
        "\n",
        "\n",
        "# You should not need to work with these\n",
        "CAS = str(CAS)\n",
        "CID = CAS_to_CID(CAS)\n",
        "if CID:\n",
        "  lcss_url = generate_LCSS_url(CID)\n",
        "  print(lcss_url)\n",
        "else:\n",
        "    print(\"Could not obtain CID :( \\nis the CAS number correct and in quotations?\")"
      ],
      "metadata": {
        "colab": {
          "base_uri": "https://localhost:8080/"
        },
        "id": "1K_3u2ZZ6mU4",
        "outputId": "c69bcc74-5fb7-4085-9ab7-7070c7b2e3b3"
      },
      "execution_count": null,
      "outputs": [
        {
          "output_type": "stream",
          "name": "stdout",
          "text": [
            "Could not obtain CID :( \n",
            "is the CAS number correct and in quotations?\n"
          ]
        }
      ]
    },
    {
      "cell_type": "markdown",
      "source": [
        "### Collecting Many URLs from Many CAS Numbers\n",
        "Copy paste"
      ],
      "metadata": {
        "id": "an4JiIlk-oqi"
      }
    },
    {
      "cell_type": "code",
      "source": [
        "import io\n",
        "import pandas as pd\n",
        "cas_nums = pd.read_csv(io.StringIO('''\n",
        "67-68-5\n",
        "67-56-1\n",
        "75-05-8\n",
        "110-54-3\n",
        "x\n",
        "110-54-3\n",
        "68-12-2\n",
        "x\n",
        "100-47-0\n",
        "60-24-2\n",
        "108-24-7\n",
        "110-86-1\n",
        "500-22-1\n",
        "x\n",
        "67-68-5\n",
        "140-29-4\n",
        "103-72-0\n",
        "102-52-3\n",
        "x\n",
        "x\n",
        "75-09-2\n",
        "141-78-6\n",
        "'''), header=None)\n"
      ],
      "metadata": {
        "id": "vDPwKLja0wj1"
      },
      "execution_count": null,
      "outputs": []
    },
    {
      "cell_type": "code",
      "source": [
        "total_string = \"\"\n",
        "for cas in cas_nums[0]:\n",
        "  CAS = str(cas)\n",
        "  CID = CAS_to_CID(CAS)\n",
        "  if CID:\n",
        "    lcss_url = generate_LCSS_url(CID)\n",
        "  else:\n",
        "    lcss_url = \"Could not obtain LCSS\"\n",
        "\n",
        "  total_string += f\"{lcss_url} \\n\"\n",
        "\n",
        "print(total_string)"
      ],
      "metadata": {
        "colab": {
          "base_uri": "https://localhost:8080/"
        },
        "id": "401XXKoS1GWv",
        "outputId": "fb98e82b-2fb9-449e-ec10-fc387203b607"
      },
      "execution_count": null,
      "outputs": [
        {
          "output_type": "stream",
          "name": "stdout",
          "text": [
            "https://pubchem.ncbi.nlm.nih.gov/compound/6348#datasheet=LCSS \n",
            "https://pubchem.ncbi.nlm.nih.gov/compound/24602#datasheet=LCSS \n",
            "https://pubchem.ncbi.nlm.nih.gov/compound/75151#datasheet=LCSS \n",
            "https://pubchem.ncbi.nlm.nih.gov/compound/7397#datasheet=LCSS \n",
            "https://pubchem.ncbi.nlm.nih.gov/compound/8134#datasheet=LCSS \n",
            "Could not obtain LCSS \n",
            "https://pubchem.ncbi.nlm.nih.gov/compound/75151#datasheet=LCSS \n",
            "\n"
          ]
        }
      ]
    },
    {
      "cell_type": "markdown",
      "source": [
        "# Collecting Common Names\n",
        "\n"
      ],
      "metadata": {
        "id": "UQ5UI_i4g2Ax"
      }
    },
    {
      "cell_type": "markdown",
      "source": [
        "##Collecting One Common Name from a CAS Number"
      ],
      "metadata": {
        "id": "0zTGU6LxhE17"
      }
    },
    {
      "cell_type": "code",
      "source": [
        "# You only need to replace what CAS is equal to\n",
        "CAS = \"100-47-0\" #50-00-0 is an example CAS number\n",
        "\n",
        "\n",
        "# You should not need to work with these\n",
        "CAS = str(CAS)\n",
        "CID = CAS_to_CID(CAS)\n",
        "if CID:\n",
        "  common_name = CID_to_common_name(CID)\n",
        "  if common_name:\n",
        "    print(common_name)\n",
        "  else:\n",
        "    print(\"Could not obtain common name :(\")\n",
        "else:\n",
        "  print(\"Could not obtain CID :( \\nis the CAS number correct and in quotations?\")"
      ],
      "metadata": {
        "colab": {
          "base_uri": "https://localhost:8080/"
        },
        "id": "_nWAHanfhaIl",
        "outputId": "ea20fa32-c64a-4410-8a3d-908f3c510fef"
      },
      "execution_count": null,
      "outputs": [
        {
          "output_type": "stream",
          "name": "stdout",
          "text": [
            "Benzonitrile\n"
          ]
        }
      ]
    },
    {
      "cell_type": "markdown",
      "source": [
        "##Collecting Many Common Names from Many CAS Numbers"
      ],
      "metadata": {
        "id": "3GbGNLDrhKxR"
      }
    },
    {
      "cell_type": "code",
      "source": [
        "import io\n",
        "import pandas as pd\n",
        "cas_nums = pd.read_csv(io.StringIO('''\n",
        "75-15-0\n",
        "7789-20-0\n",
        "2206-27-1\n",
        "98-59-9\n",
        "111-77-3\n",
        "12093-10-6\n",
        "2206-27-1\n",
        "'''), header=None)\n"
      ],
      "metadata": {
        "id": "ImY5AOQCMaww"
      },
      "execution_count": null,
      "outputs": []
    },
    {
      "cell_type": "code",
      "source": [
        "total_string = \"\"\n",
        "for cas in cas_nums[0]:\n",
        "  CAS = str(cas)\n",
        "  CID = CAS_to_CID(CAS)\n",
        "  if CID:\n",
        "    common_name = CID_to_common_name(CID)\n",
        "    if common_name:\n",
        "      entry = common_name\n",
        "    else:\n",
        "      entry = \"Could not obtain common name\"\n",
        "  else:\n",
        "    entry = \"Could not obtain common name\"\n",
        "\n",
        "  total_string += entry + \"\\n\"\n",
        "\n",
        "print(total_string)"
      ],
      "metadata": {
        "id": "K-y-oFvLMdWN",
        "colab": {
          "base_uri": "https://localhost:8080/"
        },
        "outputId": "b6225401-c8d4-4685-bbb7-f9b37e7809c0"
      },
      "execution_count": null,
      "outputs": [
        {
          "output_type": "stream",
          "name": "stdout",
          "text": [
            "Carbon Disulfide\n",
            "Deuterium Oxide\n",
            "DMSO-d6\n",
            "P-Toluenesulfonyl chloride\n",
            "2-(2-Methoxyethoxy)ethanol\n",
            "Could not obtain common name\n",
            "DMSO-d6\n",
            "\n"
          ]
        }
      ]
    }
  ]
}